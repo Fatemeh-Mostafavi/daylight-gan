{
 "cells": [
  {
   "cell_type": "code",
   "execution_count": 1,
   "metadata": {},
   "outputs": [
    {
     "name": "stdout",
     "output_type": "stream",
     "text": [
      "Failed to import projection factor splines from CSV.\n",
      "A simpler interoplation method for Solarcal will be used.\n",
      "Failed to import projection factor splines from CSV.\n",
      "A simpler interoplation method for Solarcal will be used.\n",
      "Successfully imported Ladybug plugin: ladybug_comfort\n",
      "Successfully imported Ladybug plugin: ladybug_geometry\n",
      "Failed to load paths from C:\\Users\\user\\Miniconda3\\lib\\site-packages\\honeybee\\config.json.\n",
      "Path to OpenStudio is set to: C:/Program Files/OpenStudio 1.14.0\n",
      "Path to radiance is set to: c:/radiance\n",
      "Path to perl is set to: C:/Program Files/OpenStudio 1.14.0\\strawberry-perl-5.16.2.1-32bit-portable-reduced\n"
     ]
    }
   ],
   "source": [
    "import numpy as np\n",
    "import json\n",
    "import ast\n",
    "import os\n",
    "import glob\n",
    "import shutil\n",
    "\n",
    "from honeybee.hbsurface import HBSurface, HBAnalysisSurface\n",
    "from honeybee.radiance.analysisgrid import AnalysisGrid\n",
    "from honeybee.radiance.recipe.daylightcoeff.gridbased import DaylightCoeffGridBased\n",
    "from honeybee.radiance.sky.skymatrix import SkyMatrix as skm\n",
    "\n",
    "from ladybug.wea import Wea\n",
    "from ladybug.sunpath import Sunpath\n",
    "from ladybug.analysisperiod import AnalysisPeriod\n",
    "\n",
    "from IPython.display import display, clear_output"
   ]
  },
  {
   "cell_type": "code",
   "execution_count": 5,
   "metadata": {},
   "outputs": [
    {
     "data": {
      "text/plain": [
       "132"
      ]
     },
     "execution_count": 5,
     "metadata": {},
     "output_type": "execute_result"
    }
   ],
   "source": [
    "hoys = np.load('./data/hoys.npy')\n",
    "hoys = list(hoys)\n",
    "len(hoys)"
   ]
  },
  {
   "cell_type": "code",
   "execution_count": 6,
   "metadata": {},
   "outputs": [],
   "source": [
    "#Set up epw, analysis period and climate-based sky matrix\n",
    "\n",
    "epw_file_path = './data/DNK_Copenhagen.061800_IWEC.epw'\n",
    "\n",
    "wea = Wea.from_epw_file(epw_file_path)\n",
    "\n",
    "#period = AnalysisPeriod(st_month=1, st_day=15, st_hour=8, end_month=12, end_day=15, end_hour=18)\n",
    "\n",
    "sky = skm(wea, sky_density=1, hoys=hoys)"
   ]
  },
  {
   "cell_type": "code",
   "execution_count": 7,
   "metadata": {},
   "outputs": [],
   "source": [
    "#Function to generate hb_surface out of the json file\n",
    "\n",
    "def get_hb_surfaces(file):\n",
    "    hb_surfaces = []\n",
    "    with open(file, 'r') as in_file:\n",
    "        data = json.load(in_file)\n",
    "        for srf in data:\n",
    "            srf = ast.literal_eval(srf)\n",
    "            \n",
    "            hb_surface = HBSurface.from_json(srf)\n",
    "            #Append to the surfaces list\n",
    "            hb_surfaces.append(hb_surface)\n",
    "            \n",
    "    print(\"{} Honeybee Surfaces parsed\".format(len(hb_surfaces)))\n",
    "    \n",
    "    return hb_surfaces"
   ]
  },
  {
   "cell_type": "code",
   "execution_count": 8,
   "metadata": {},
   "outputs": [],
   "source": [
    "#Function to generate an analysis grid out of the json file\n",
    "def get_hb_grid(file):\n",
    "    \n",
    "    with open(file, 'r') as in_file:\n",
    "        data = json.load(in_file)\n",
    "        grid = [AnalysisGrid.from_json(data)]\n",
    "    return grid"
   ]
  },
  {
   "cell_type": "code",
   "execution_count": 9,
   "metadata": {},
   "outputs": [],
   "source": [
    "# File locations and save folders\n",
    "\n",
    "#Folder containing hb surface json files\n",
    "surface_folder = r'F:/ML/CaseStudies/IndoorGAN/JSONs/surfaces/Running'\n",
    "\n",
    "#Folder containing grid json files\n",
    "grid_folder = r'F:\\ML\\CaseStudies\\IndoorGAN\\JSONs\\grids/Running'\n",
    "\n",
    "\n",
    "#Folders to save daylight results\n",
    "da_folder = r'F:\\ML\\CaseStudies\\IndoorGAN\\JSONs\\results\\DA'\n",
    "cda_folder = r'F:\\ML\\CaseStudies\\IndoorGAN\\JSONs\\results\\CDA'\n",
    "udi_folder = r'F:\\ML\\CaseStudies\\IndoorGAN\\JSONs\\results\\UDI'\n",
    "udi_less_folder = r'F:\\ML\\CaseStudies\\IndoorGAN\\JSONs\\results\\UDI_less'\n",
    "udi_more_folder = r'F:\\ML\\CaseStudies\\IndoorGAN\\JSONs\\results\\UDI_more'\n",
    "\n",
    "#Folder to save recipes\n",
    "target_folder = os.path.join(os.getcwd(), 'recipes')"
   ]
  },
  {
   "cell_type": "code",
   "execution_count": 10,
   "metadata": {},
   "outputs": [
    {
     "data": {
      "text/plain": [
       "(0, 0)"
      ]
     },
     "execution_count": 10,
     "metadata": {},
     "output_type": "execute_result"
    }
   ],
   "source": [
    "#Get json files out of the locations\n",
    "\n",
    "json_surfaces = glob.glob(surface_folder + '\\*.json')\n",
    "json_grids = glob.glob(grid_folder + '\\*.json')\n",
    "\n",
    "assert len(json_surfaces) == len(json_grids)\n",
    "\n",
    "len(json_surfaces), len(json_grids)"
   ]
  },
  {
   "cell_type": "code",
   "execution_count": 29,
   "metadata": {},
   "outputs": [],
   "source": [
    "def run_batch_simulation(surfaces, grids):\n",
    "    i=0\n",
    "    #Loop over all cases / json files\n",
    "    for srf, grid in zip(surfaces, grids):\n",
    "        clear_output(wait=True)\n",
    "        i+=1\n",
    "        print(\"Now running case {}...\".format(int(i)))\n",
    "        \n",
    "        #Create hb surfaces\n",
    "        hb_surfaces = get_hb_surfaces(srf)\n",
    "        #Create analysis grid\n",
    "        grid = get_hb_grid(grid)\n",
    "        print('Daylight simulation running for {} total grid points'.format(len(grid[0])))\n",
    "        \n",
    "        #Create recipe\n",
    "        recipe = DaylightCoeffGridBased(sky_mtx=sky, analysis_grids=grid, hb_objects=hb_surfaces)\n",
    "        \n",
    "        #Run annual simulation\n",
    "        print('\\n')\n",
    "        command_path = recipe.write(target_folder, 'current')\n",
    "        recipe.run(command_path)\n",
    "        print('\\n')\n",
    "        #Calculate result grid\n",
    "        result = recipe.results()[0]\n",
    "        print('Calculating annual metrics..')\n",
    "        #Calculate annual metrics\n",
    "        da, cda, udi, udi_less, udi_more = result.annual_metrics()\n",
    "        print('\\n')\n",
    "        print('Saving results to disk..')\n",
    "        #Save metrics into arrays\n",
    "        np.save(da_folder + '\\\\' + srf.split('\\\\')[-1].split('.json')[0], np.asarray(da))\n",
    "        np.save(cda_folder + '\\\\' + srf.split('\\\\')[-1].split('.json')[0], np.asarray(cda))\n",
    "        np.save(udi_folder + '\\\\' + srf.split('\\\\')[-1].split('.json')[0], np.asarray(udi))\n",
    "        np.save(udi_less_folder + '\\\\' + srf.split('\\\\')[-1].split('.json')[0], np.asarray(udi_less))\n",
    "        np.save(udi_more_folder + '\\\\' + srf.split('\\\\')[-1].split('.json')[0], np.asarray(udi_more))\n",
    "        \n",
    "        shutil.rmtree(target_folder + '\\current', ignore_errors=True)"
   ]
  },
  {
   "cell_type": "code",
   "execution_count": 30,
   "metadata": {},
   "outputs": [
    {
     "name": "stdout",
     "output_type": "stream",
     "text": [
      "Now running case 50...\n",
      "696 Honeybee Surfaces parsed\n",
      "Daylight simulation running for 9615 total grid points\n",
      "Found 476 opaque surfaces.\n",
      "Found 220 fenestration surfaces.\n",
      "Found 0 window-groups.\n",
      "\n",
      "\n",
      "Writing recipe contents to: F:\\ML\\CaseStudies\\IndoorGAN\\JSONs\\recipes\\current\\gridbased_daylightcoeff\n",
      "Calculating solar values...\n",
      "# Number of sun up hours: 120\n",
      "Writing sun matrix to F:\\ML\\CaseStudies\\IndoorGAN\\JSONs\\recipes\\current\\gridbased_daylightcoeff\\sky\\sunmtx.smx\n",
      "\n",
      "\n",
      "Unloading the current values from the analysis grids.\n",
      "\n",
      "loading total and direct results for Floor AnalysisGrid from scene::default\n",
      "F:\\ML\\CaseStudies\\IndoorGAN\\JSONs\\recipes\\current\\gridbased_daylightcoeff\\result/scene..default.ill\n",
      "F:\\ML\\CaseStudies\\IndoorGAN\\JSONs\\recipes\\current\\gridbased_daylightcoeff\\result\\sun..scene..default.ill\n",
      "\n",
      "Calculating annual metrics..\n",
      "\n",
      "\n",
      "Saving results to disk..\n"
     ]
    }
   ],
   "source": [
    "run_batch_simulation(json_surfaces, json_grids)"
   ]
  }
 ],
 "metadata": {
  "kernelspec": {
   "display_name": "lbtools",
   "language": "python",
   "name": "myenv"
  },
  "language_info": {
   "codemirror_mode": {
    "name": "ipython",
    "version": 3
   },
   "file_extension": ".py",
   "mimetype": "text/x-python",
   "name": "python",
   "nbconvert_exporter": "python",
   "pygments_lexer": "ipython3",
   "version": "3.7.3"
  },
  "toc": {
   "base_numbering": 1,
   "nav_menu": {},
   "number_sections": true,
   "sideBar": true,
   "skip_h1_title": false,
   "title_cell": "Table of Contents",
   "title_sidebar": "Contents",
   "toc_cell": false,
   "toc_position": {},
   "toc_section_display": true,
   "toc_window_display": false
  }
 },
 "nbformat": 4,
 "nbformat_minor": 2
}
